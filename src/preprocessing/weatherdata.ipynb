{
  "nbformat": 4,
  "nbformat_minor": 0,
  "metadata": {
    "colab": {
      "provenance": []
    },
    "kernelspec": {
      "name": "python3",
      "display_name": "Python 3"
    },
    "language_info": {
      "name": "python"
    }
  },
  "cells": [
    {
      "cell_type": "code",
      "source": [
        "import gdown\n",
        "import lightgbm as lgb\n",
        "import matplotlib.pyplot as plt\n",
        "import numpy as np\n",
        "import pandas as pd\n",
        "import xgboost as xgb\n",
        "from google.colab import drive\n",
        "from google.colab import files\n",
        "from sklearn.metrics import mean_absolute_error, mean_squared_error, r2_score\n",
        "from sklearn.model_selection import train_test_split, validation_curve\n",
        "from sklearn.preprocessing import StandardScaler\n",
        "\n"
      ],
      "metadata": {
        "id": "M4xC9QOmv8dX"
      },
      "execution_count": 2,
      "outputs": []
    },
    {
      "cell_type": "code",
      "source": [
        "drive.mount('/content/drive')"
      ],
      "metadata": {
        "colab": {
          "base_uri": "https://localhost:8080/"
        },
        "id": "bZ-Um8eEwNt3",
        "outputId": "c2ba8261-f31f-4c1c-b5f6-79bf74567045"
      },
      "execution_count": 3,
      "outputs": [
        {
          "output_type": "stream",
          "name": "stdout",
          "text": [
            "Mounted at /content/drive\n"
          ]
        }
      ]
    },
    {
      "cell_type": "code",
      "source": [
        "# Loading in data from file uploaded to google drive,\n",
        "\n",
        "weather_data_file_id = \"1-mUFVBKl69Gex8VkqdCVeNF-AmwlQX-k\"\n",
        "url = f'https://drive.google.com/uc?id={weather_data_file_id}'\n",
        "\n",
        "output = 'merged_weather_data.csv'\n",
        "gdown.download(url, output, quiet=False)\n",
        "\n",
        "weather_data_df = pd.read_csv(output)\n"
      ],
      "metadata": {
        "colab": {
          "base_uri": "https://localhost:8080/"
        },
        "id": "B0Hou17CwZgQ",
        "outputId": "0c8d93f7-045b-474b-8cf0-3428722fbb35"
      },
      "execution_count": 4,
      "outputs": [
        {
          "output_type": "stream",
          "name": "stderr",
          "text": [
            "Downloading...\n",
            "From: https://drive.google.com/uc?id=1-mUFVBKl69Gex8VkqdCVeNF-AmwlQX-k\n",
            "To: /content/merged_weather_data.csv\n",
            "100%|██████████| 67.0M/67.0M [00:00<00:00, 121MB/s]\n",
            "<ipython-input-4-32711e1511e1>:7: DtypeWarning: Columns (6,16) have mixed types. Specify dtype option on import or set low_memory=False.\n",
            "  weather_data_df = pd.read_csv(output)\n"
          ]
        }
      ]
    },
    {
      "cell_type": "code",
      "execution_count": 5,
      "metadata": {
        "id": "mUgGw42Rv6mc"
      },
      "outputs": [],
      "source": [
        "# This code processes the 'WND' column to extract valid wind speed data.\n",
        "# It first filters rows where 'WND' has exactly 5 comma-separated parts and a numeric wind speed (2nd element).\n",
        "# Then, it extracts the wind speed (as an integer) from those valid rows and assigns it to a new column.\n",
        "\n",
        "valid_wnd = weather_data_df['WND'].str.split(',')\n",
        "valid_rows_mask = valid_wnd.apply(lambda x: isinstance(x, list) and len(x) == 5 and x[1].isdigit())\n",
        "\n",
        "weather_data_df_valid = weather_data_df[valid_rows_mask].copy()\n",
        "\n",
        "weather_data_df_valid['wind_speed'] = weather_data_df_valid['WND'].str.split(',').str[1].astype(int)\n",
        "\n",
        "weather_data_df['wind_speed'] = weather_data_df_valid['wind_speed']\n"
      ]
    },
    {
      "cell_type": "code",
      "source": [
        "# This code defines a function to extract and clean temperature data from the 'TMP' column.\n",
        "# It splits each value at the comma, converts the first part to an integer, and checks for the placeholder value 9999.\n",
        "# If valid, it converts the temperature to Celsius by dividing by 10; otherwise, it returns None.\n",
        "# The function is applied to create a new 'temperature_c' column with cleaned temperature values.\n",
        "\n",
        "def extract_temp(value):\n",
        "    try:\n",
        "        temp_str = value.split(',')[0]\n",
        "        temp = int(temp_str)\n",
        "        return None if temp == 9999 else temp / 10\n",
        "    except:\n",
        "        return None\n",
        "\n",
        "weather_data_df['temperature_c'] = weather_data_df['TMP'].apply(extract_temp)\n",
        "\n",
        "\n"
      ],
      "metadata": {
        "id": "hIUS8tEKyYQn"
      },
      "execution_count": 6,
      "outputs": []
    },
    {
      "cell_type": "code",
      "source": [
        "def extract_coverage(df, ga1_col='GA1', new_col='sky_coverage'):\n",
        "    \"\"\"\n",
        "    Extracts sky coverage code from GA1 column and stores it in a new column.\n",
        "\n",
        "    Parameters:\n",
        "    - df: DataFrame containing the GA1 column\n",
        "    - ga1_col: column name with GA1 values\n",
        "    - new_col: name of the new column to store the coverage codes\n",
        "\n",
        "    Returns:\n",
        "    - DataFrame with an added column for sky coverage\n",
        "    \"\"\"\n",
        "    def get_coverage(code):\n",
        "        if isinstance(code, str):\n",
        "            return code.split(',')[0] if ',' in code else None\n",
        "        return None\n",
        "\n",
        "    df[new_col] = df[ga1_col].apply(get_coverage)\n",
        "    return df\n",
        "\n",
        "weather_data_df = extract_coverage(weather_data_df)"
      ],
      "metadata": {
        "id": "lryUP-iBzZtA"
      },
      "execution_count": 7,
      "outputs": []
    },
    {
      "cell_type": "code",
      "source": [
        "def extract_precipitation_amount(df, aa1_col='AA1', new_col='precipitation_mm'):\n",
        "    \"\"\"\n",
        "    Extracts the precipitation amount in millimeters from the AA1 code.\n",
        "\n",
        "    Parameters:\n",
        "    - df: DataFrame containing the AA1 column\n",
        "    - aa1_col: column name containing AA1 code strings\n",
        "    - new_col: name of the output column for precipitation amounts in mm\n",
        "\n",
        "    Returns:\n",
        "    - Modified DataFrame with an additional column for precipitation amounts in mm\n",
        "    \"\"\"\n",
        "    def extract_amount(code):\n",
        "        if isinstance(code, str):\n",
        "            try:\n",
        "                # The second field is the precipitation amount in millimeters\n",
        "                precip_mm = int(code.split(',')[1])\n",
        "                return precip_mm\n",
        "            except (IndexError, ValueError):\n",
        "                return float('nan')\n",
        "        return float('nan')\n",
        "\n",
        "    df[new_col] = df[aa1_col].apply(extract_amount)\n",
        "    return df\n",
        "\n",
        "\n",
        "weather_data_df = extract_precipitation_amount(weather_data_df)\n"
      ],
      "metadata": {
        "id": "fmAg78Dfzc-n"
      },
      "execution_count": 8,
      "outputs": []
    },
    {
      "cell_type": "code",
      "source": [
        "irrelevant_cols = [\n",
        "    'STATION', 'SOURCE', 'REPORT_TYPE', 'CALL_SIGN',\n",
        "    'QUALITY_CONTROL', 'source_file',\n",
        "      'RH1', 'DEW', 'LONGITUDE', 'LATITUDE',\n",
        "    'ELEVATION',  'WND', 'TMP', 'weather_code', 'AA1', 'GA1', 'weather_code'\n",
        "]\n",
        "\n",
        "weather_df_clean = weather_data_df.drop(columns=irrelevant_cols)\n"
      ],
      "metadata": {
        "id": "m1oTOX3yU1h_"
      },
      "execution_count": 16,
      "outputs": []
    }
  ]
}