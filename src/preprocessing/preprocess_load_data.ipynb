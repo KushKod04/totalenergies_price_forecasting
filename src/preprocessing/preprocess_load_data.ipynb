{
 "cells": [
  {
   "cell_type": "code",
   "execution_count": 1,
   "id": "0d59f166",
   "metadata": {},
   "outputs": [
    {
     "name": "stdout",
     "output_type": "stream",
     "text": [
      "Requirement already satisfied: pandas in /Library/Frameworks/Python.framework/Versions/3.12/lib/python3.12/site-packages (2.2.2)\n",
      "Requirement already satisfied: numpy in /Library/Frameworks/Python.framework/Versions/3.12/lib/python3.12/site-packages (1.26.4)\n",
      "Requirement already satisfied: openpyxl in /Library/Frameworks/Python.framework/Versions/3.12/lib/python3.12/site-packages (3.1.5)\n",
      "Requirement already satisfied: python-dateutil>=2.8.2 in /Library/Frameworks/Python.framework/Versions/3.12/lib/python3.12/site-packages (from pandas) (2.9.0.post0)\n",
      "Requirement already satisfied: pytz>=2020.1 in /Library/Frameworks/Python.framework/Versions/3.12/lib/python3.12/site-packages (from pandas) (2024.1)\n",
      "Requirement already satisfied: tzdata>=2022.7 in /Library/Frameworks/Python.framework/Versions/3.12/lib/python3.12/site-packages (from pandas) (2024.1)\n",
      "Requirement already satisfied: et-xmlfile in /Library/Frameworks/Python.framework/Versions/3.12/lib/python3.12/site-packages (from openpyxl) (2.0.0)\n",
      "Requirement already satisfied: six>=1.5 in /Library/Frameworks/Python.framework/Versions/3.12/lib/python3.12/site-packages (from python-dateutil>=2.8.2->pandas) (1.16.0)\n",
      "\n",
      "\u001b[1m[\u001b[0m\u001b[34;49mnotice\u001b[0m\u001b[1;39;49m]\u001b[0m\u001b[39;49m A new release of pip is available: \u001b[0m\u001b[31;49m25.0.1\u001b[0m\u001b[39;49m -> \u001b[0m\u001b[32;49m25.1.1\u001b[0m\n",
      "\u001b[1m[\u001b[0m\u001b[34;49mnotice\u001b[0m\u001b[1;39;49m]\u001b[0m\u001b[39;49m To update, run: \u001b[0m\u001b[32;49mpip install --upgrade pip\u001b[0m\n"
     ]
    }
   ],
   "source": [
    "# Install all required libraries for preprocessing\n",
    "!pip install pandas numpy openpyxl"
   ]
  },
  {
   "cell_type": "code",
   "execution_count": 4,
   "id": "b138b76b",
   "metadata": {},
   "outputs": [],
   "source": [
    "# Import necessary libraries for data handling and processing\n",
    "import pandas as pd\n",
    "import numpy as np"
   ]
  },
  {
   "cell_type": "code",
   "execution_count": 7,
   "id": "316d0e45",
   "metadata": {},
   "outputs": [],
   "source": [
    "# ======================================\n",
    "# Cell 3: Load and Clean Load Data\n",
    "# ======================================\n",
    "# Load load dataset from GitHub repo clone or local path\n",
    "load_df = pd.read_csv(\"../../data/raw/load/2d_Agg_Load_Summary-17-APR-25.csv\")\n",
    "\n"
   ]
  },
  {
   "cell_type": "code",
   "execution_count": 6,
   "id": "8f0a7a68-18de-4692-8b8e-1c3ad5a97bd7",
   "metadata": {},
   "outputs": [
    {
     "ename": "NameError",
     "evalue": "name 'load_df' is not defined",
     "output_type": "error",
     "traceback": [
      "\u001b[0;31m---------------------------------------------------------------------------\u001b[0m",
      "\u001b[0;31mNameError\u001b[0m                                 Traceback (most recent call last)",
      "Cell \u001b[0;32mIn[6], line 4\u001b[0m\n\u001b[1;32m      1\u001b[0m \u001b[38;5;66;03m# Try parsing the timestamp column with seconds; fallback if that fails\u001b[39;00m\n\u001b[1;32m      2\u001b[0m \u001b[38;5;28;01mtry\u001b[39;00m:\n\u001b[1;32m      3\u001b[0m     load_df[\u001b[38;5;124m'\u001b[39m\u001b[38;5;124mDatetime\u001b[39m\u001b[38;5;124m'\u001b[39m] \u001b[38;5;241m=\u001b[39m pd\u001b[38;5;241m.\u001b[39mto_datetime(\n\u001b[0;32m----> 4\u001b[0m         \u001b[43mload_df\u001b[49m[\u001b[38;5;124m'\u001b[39m\u001b[38;5;124mSCED Time Stamp\u001b[39m\u001b[38;5;124m'\u001b[39m]\u001b[38;5;241m.\u001b[39mstr\u001b[38;5;241m.\u001b[39mstrip(),\n\u001b[1;32m      5\u001b[0m         \u001b[38;5;28mformat\u001b[39m\u001b[38;5;241m=\u001b[39m\u001b[38;5;124m'\u001b[39m\u001b[38;5;124m%\u001b[39m\u001b[38;5;124mm/\u001b[39m\u001b[38;5;132;01m%d\u001b[39;00m\u001b[38;5;124m/\u001b[39m\u001b[38;5;124m%\u001b[39m\u001b[38;5;124mY \u001b[39m\u001b[38;5;124m%\u001b[39m\u001b[38;5;124mH:\u001b[39m\u001b[38;5;124m%\u001b[39m\u001b[38;5;124mM:\u001b[39m\u001b[38;5;124m%\u001b[39m\u001b[38;5;124mS\u001b[39m\u001b[38;5;124m'\u001b[39m)\n\u001b[1;32m      6\u001b[0m \u001b[38;5;28;01mexcept\u001b[39;00m \u001b[38;5;167;01mValueError\u001b[39;00m:\n\u001b[1;32m      7\u001b[0m     load_df[\u001b[38;5;124m'\u001b[39m\u001b[38;5;124mDatetime\u001b[39m\u001b[38;5;124m'\u001b[39m] \u001b[38;5;241m=\u001b[39m pd\u001b[38;5;241m.\u001b[39mto_datetime(\n\u001b[1;32m      8\u001b[0m         load_df[\u001b[38;5;124m'\u001b[39m\u001b[38;5;124mSCED Time Stamp\u001b[39m\u001b[38;5;124m'\u001b[39m]\u001b[38;5;241m.\u001b[39mstr\u001b[38;5;241m.\u001b[39mstrip(),\n\u001b[1;32m      9\u001b[0m         \u001b[38;5;28mformat\u001b[39m\u001b[38;5;241m=\u001b[39m\u001b[38;5;124m'\u001b[39m\u001b[38;5;124m%\u001b[39m\u001b[38;5;124mm/\u001b[39m\u001b[38;5;132;01m%d\u001b[39;00m\u001b[38;5;124m/\u001b[39m\u001b[38;5;124m%\u001b[39m\u001b[38;5;124mY \u001b[39m\u001b[38;5;124m%\u001b[39m\u001b[38;5;124mH:\u001b[39m\u001b[38;5;124m%\u001b[39m\u001b[38;5;124mM\u001b[39m\u001b[38;5;124m'\u001b[39m)\n",
      "\u001b[0;31mNameError\u001b[0m: name 'load_df' is not defined"
     ]
    }
   ],
   "source": [
    "# Try parsing the timestamp column with seconds; fallback if that fails\n",
    "try:\n",
    "    load_df['Datetime'] = pd.to_datetime(\n",
    "        load_df['SCED Time Stamp'].str.strip(),\n",
    "        format='%m/%d/%Y %H:%M:%S')\n",
    "except ValueError:\n",
    "    load_df['Datetime'] = pd.to_datetime(\n",
    "        load_df['SCED Time Stamp'].str.strip(),\n",
    "        format='%m/%d/%Y %H:%M')\n",
    "\n",
    "# Floor datetime to the hour level\n",
    "load_df['Datetime_hour'] = load_df['Datetime'].dt.floor('H')"
   ]
  },
  {
   "cell_type": "code",
   "execution_count": null,
   "id": "6b0af0f2",
   "metadata": {},
   "outputs": [],
   "source": [
    "# ======================================\n",
    "# Cell 4: Feature Engineering\n",
    "# ======================================\n",
    "# Sort data chronologically\n",
    "load_df = load_df.sort_values('Datetime_hour')\n",
    "\n",
    "# Create load ramp (hour-over-hour change in total load)\n",
    "load_df['load_ramp'] = load_df['AGG LOAD SUMMARY'].diff()\n",
    "\n",
    "# Create ratio and delta features relative to total generation\n",
    "load_df['load_gen_ratio'] = load_df['AGG LOAD SUMMARY'] / load_df['SUM TELEM GEN MW']\n",
    "load_df['load_minus_gen'] = load_df['AGG LOAD SUMMARY'] - load_df['SUM TELEM GEN MW']\n",
    "load_df['tie_flow_pct'] = load_df['SUM TELEM DCTIE MW'] / load_df['AGG LOAD SUMMARY']\n",
    "\n",
    "# Extract temporal features\n",
    "load_df['hour'] = load_df['Datetime_hour'].dt.hour\n",
    "load_df['day_of_week'] = load_df['Datetime_hour'].dt.dayofweek\n",
    "load_df['is_peak_hour'] = ((load_df['hour'] >= 16) & (load_df['hour'] <= 20)).astype(int)\n",
    "\n",
    "# Rolling averages for historical context\n",
    "load_df['3hr_load_ma'] = load_df['AGG LOAD SUMMARY'].rolling(window=3).mean()\n",
    "load_df['6hr_load_ma'] = load_df['AGG LOAD SUMMARY'].rolling(window=6).mean()\n",
    "load_df['3hr_gen_ma'] = load_df['SUM TELEM GEN MW'].rolling(window=3).mean()"
   ]
  },
  {
   "cell_type": "code",
   "execution_count": null,
   "id": "2e1cc07d",
   "metadata": {},
   "outputs": [],
   "source": [
    "# ======================================\n",
    "# Cell 5: Clean Final DataFrame\n",
    "# ======================================\n",
    "# Replace infinite values and drop rows with missing data\n",
    "load_df.replace([np.inf, -np.inf], np.nan, inplace=True)\n",
    "load_df.dropna(inplace=True)\n",
    "\n",
    "# Keep only relevant columns (excluding price or external fields)\n",
    "columns_to_keep = [\n",
    "    'Datetime_hour', 'AGG LOAD SUMMARY', 'SUM TELEM GEN MW', 'SUM TELEM DCTIE MW',\n",
    "    'load_ramp', 'load_gen_ratio', 'load_minus_gen', 'tie_flow_pct',\n",
    "    'hour', 'day_of_week', 'is_peak_hour',\n",
    "    '3hr_load_ma', '6hr_load_ma', '3hr_gen_ma'\n",
    "]\n",
    "final_df = load_df[columns_to_keep]"
   ]
  },
  {
   "cell_type": "code",
   "execution_count": null,
   "id": "3c1cecb1",
   "metadata": {},
   "outputs": [],
   "source": [
    "# ======================================\n",
    "# Cell 6: Export Processed Data\n",
    "# ======================================\n",
    "# Display head of final data to confirm structure\n",
    "print(final_df.head())\n",
    "\n",
    "# Save the processed data (no price column) for modeling\n",
    "final_df.to_csv(\"../data/processed/processed_totalenergies_load_data.csv\", index=False)"
   ]
  }
 ],
 "metadata": {
  "kernelspec": {
   "display_name": "Python 3 (ipykernel)",
   "language": "python",
   "name": "python3"
  },
  "language_info": {
   "codemirror_mode": {
    "name": "ipython",
    "version": 3
   },
   "file_extension": ".py",
   "mimetype": "text/x-python",
   "name": "python",
   "nbconvert_exporter": "python",
   "pygments_lexer": "ipython3",
   "version": "3.12.4"
  }
 },
 "nbformat": 4,
 "nbformat_minor": 5
}
