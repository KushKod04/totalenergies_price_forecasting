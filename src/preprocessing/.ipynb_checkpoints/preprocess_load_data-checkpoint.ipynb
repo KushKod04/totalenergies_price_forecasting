{
 "cells": [
  {
   "cell_type": "code",
   "execution_count": null,
   "id": "0d59f166",
   "metadata": {},
   "outputs": [],
   "source": [
    "# ======================================\n",
    "# Cell 1: Install Required Packages\n",
    "# ======================================\n",
    "# Install all required libraries for preprocessing\n",
    "!pip install pandas numpy openpyxl"
   ]
  },
  {
   "cell_type": "code",
   "execution_count": null,
   "id": "b138b76b",
   "metadata": {},
   "outputs": [],
   "source": [
    "# ======================================\n",
    "# Cell 2: Import Required Libraries\n",
    "# ======================================\n",
    "# Import necessary libraries for data handling and processing\n",
    "import pandas as pd\n",
    "import numpy as np"
   ]
  },
  {
   "cell_type": "code",
   "execution_count": null,
   "id": "316d0e45",
   "metadata": {},
   "outputs": [],
   "source": [
    "# ======================================\n",
    "# Cell 3: Load and Clean Load Data\n",
    "# ======================================\n",
    "# Load load dataset from GitHub repo clone or local path\n",
    "load_df = pd.read_csv(\"../data/raw/2d_Agg_Load_Summary-17-APR-25.csv\")\n",
    "\n",
    "# Try parsing the timestamp column with seconds; fallback if that fails\n",
    "try:\n",
    "    load_df['Datetime'] = pd.to_datetime(\n",
    "        load_df['SCED Time Stamp'].str.strip(),\n",
    "        format='%m/%d/%Y %H:%M:%S')\n",
    "except ValueError:\n",
    "    load_df['Datetime'] = pd.to_datetime(\n",
    "        load_df['SCED Time Stamp'].str.strip(),\n",
    "        format='%m/%d/%Y %H:%M')\n",
    "\n",
    "# Floor datetime to the hour level\n",
    "load_df['Datetime_hour'] = load_df['Datetime'].dt.floor('H')"
   ]
  },
  {
   "cell_type": "code",
   "execution_count": null,
   "id": "6b0af0f2",
   "metadata": {},
   "outputs": [],
   "source": [
    "# ======================================\n",
    "# Cell 4: Feature Engineering\n",
    "# ======================================\n",
    "# Sort data chronologically\n",
    "load_df = load_df.sort_values('Datetime_hour')\n",
    "\n",
    "# Create load ramp (hour-over-hour change in total load)\n",
    "load_df['load_ramp'] = load_df['AGG LOAD SUMMARY'].diff()\n",
    "\n",
    "# Create ratio and delta features relative to total generation\n",
    "load_df['load_gen_ratio'] = load_df['AGG LOAD SUMMARY'] / load_df['SUM TELEM GEN MW']\n",
    "load_df['load_minus_gen'] = load_df['AGG LOAD SUMMARY'] - load_df['SUM TELEM GEN MW']\n",
    "load_df['tie_flow_pct'] = load_df['SUM TELEM DCTIE MW'] / load_df['AGG LOAD SUMMARY']\n",
    "\n",
    "# Extract temporal features\n",
    "load_df['hour'] = load_df['Datetime_hour'].dt.hour\n",
    "load_df['day_of_week'] = load_df['Datetime_hour'].dt.dayofweek\n",
    "load_df['is_peak_hour'] = ((load_df['hour'] >= 16) & (load_df['hour'] <= 20)).astype(int)\n",
    "\n",
    "# Rolling averages for historical context\n",
    "load_df['3hr_load_ma'] = load_df['AGG LOAD SUMMARY'].rolling(window=3).mean()\n",
    "load_df['6hr_load_ma'] = load_df['AGG LOAD SUMMARY'].rolling(window=6).mean()\n",
    "load_df['3hr_gen_ma'] = load_df['SUM TELEM GEN MW'].rolling(window=3).mean()"
   ]
  },
  {
   "cell_type": "code",
   "execution_count": null,
   "id": "2e1cc07d",
   "metadata": {},
   "outputs": [],
   "source": [
    "# ======================================\n",
    "# Cell 5: Clean Final DataFrame\n",
    "# ======================================\n",
    "# Replace infinite values and drop rows with missing data\n",
    "load_df.replace([np.inf, -np.inf], np.nan, inplace=True)\n",
    "load_df.dropna(inplace=True)\n",
    "\n",
    "# Keep only relevant columns (excluding price or external fields)\n",
    "columns_to_keep = [\n",
    "    'Datetime_hour', 'AGG LOAD SUMMARY', 'SUM TELEM GEN MW', 'SUM TELEM DCTIE MW',\n",
    "    'load_ramp', 'load_gen_ratio', 'load_minus_gen', 'tie_flow_pct',\n",
    "    'hour', 'day_of_week', 'is_peak_hour',\n",
    "    '3hr_load_ma', '6hr_load_ma', '3hr_gen_ma'\n",
    "]\n",
    "final_df = load_df[columns_to_keep]"
   ]
  },
  {
   "cell_type": "code",
   "execution_count": null,
   "id": "3c1cecb1",
   "metadata": {},
   "outputs": [],
   "source": [
    "# ======================================\n",
    "# Cell 6: Export Processed Data\n",
    "# ======================================\n",
    "# Display head of final data to confirm structure\n",
    "print(final_df.head())\n",
    "\n",
    "# Save the processed data (no price column) for modeling\n",
    "final_df.to_csv(\"../data/processed/processed_totalenergies_load_data.csv\", index=False)"
   ]
  }
 ],
 "metadata": {},
 "nbformat": 4,
 "nbformat_minor": 5
}
